{
 "cells": [
  {
   "cell_type": "code",
   "execution_count": null,
   "metadata": {},
   "outputs": [
    {
     "name": "stdout",
     "output_type": "stream",
     "text": [
      "Spaghetti!\n",
      "Python 3.8.0\n",
      "Num GPUs Available 1\n",
      "tf.Tensor(413.88147, shape=(), dtype=float32)\n"
     ]
    }
   ],
   "source": [
    "print('Spaghetti!')\n",
    "\n",
    "#os.environ['CUDA_VISIBLE_DEVICES'] = '-1'\n",
    "\n",
    "!python --version\n",
    "import tensorflow as tf\n",
    "print(\"Num GPUs Available\", len(tf.config.experimental.list_physical_devices('GPU')))\n",
    "\n",
    "print(tf.reduce_sum(tf.random.normal([1000, 1000])))"
   ]
  },
  {
   "cell_type": "code",
   "execution_count": 2,
   "metadata": {},
   "outputs": [
    {
     "name": "stdout",
     "output_type": "stream",
     "text": [
      "Removed 27 bad training samples\n",
      "Removed 0 training samples with text\n",
      "Removed 0 non-food training samples\n",
      "Removed 204 manually filtered training samples\n",
      "30381 training labels loaded\n"
     ]
    }
   ],
   "source": [
    "#####################################################\n",
    "# Load the training images\n",
    "#####################################################\n",
    "\n",
    "# Load the training images and class labels\n",
    "import pandas as pd\n",
    "import numpy as np\n",
    "from sklearn.utils import shuffle\n",
    "\n",
    "IMG_SIZE = 299  # VGG16 224, InceptionV3 299\n",
    "BATCH_SIZE = 16\n",
    "EPOCHS = 20\n",
    "\n",
    "# Classes which should be removed from the training set\n",
    "REMOVE_LABELS = ['20'] #['28', '55'] # 28 doesn't help, 20 does help\n",
    "\n",
    "# Filter for a subset of labels in the images to load\n",
    "FILTER_LABEL = []\n",
    "\n",
    "QUICK_DIRTY = False\n",
    "if QUICK_DIRTY:\n",
    "    IMG_SIZE = 112\n",
    "    BATCH_SIZE = 40\n",
    "    EPOCHS = 10\n",
    "    FILTER_LABEL = ['1', '2', '3', '4', '5', '6', '7', '8', '9', '10']\n",
    "\n",
    "# Local data directories\n",
    "DATA_DIR = 'D:/deeplearning/AML_Foodrecognition'\n",
    "TRAIN_DIR = DATA_DIR + '/train_set/'\n",
    "TEST_DIR = DATA_DIR + '/test_set/'\n",
    "MODEL_DIR = DATA_DIR + '/models/'\n",
    "\n",
    "# Maximum number of images to load (there are 30k), set to 0 for all\n",
    "MAX_IMAGE = 0\n",
    "\n",
    "# Load all the training labels\n",
    "train_labels = pd.read_csv(DATA_DIR + '/train_labels.csv', dtype={'label': object})\n",
    "if (len(FILTER_LABEL) > 0):\n",
    "    train_labels = train_labels[train_labels['label'].isin(FILTER_LABEL)].copy().reset_index()\n",
    "\n",
    "# Remove bad classes from the training data\n",
    "count = len(train_labels)\n",
    "train_labels = train_labels[~train_labels['label'].isin(REMOVE_LABELS)]\n",
    "print('Removed {} bad training samples'.format(count - len(train_labels)))\n",
    "NUM_CLASSES = len(train_labels.groupby('label').count())\n",
    "\n",
    "# Remove images with text from the training data\n",
    "images_with_text = pd.read_csv('./images_with_text.csv')\n",
    "count = len(train_labels)\n",
    "#train_labels = train_labels[~train_labels['img_name'].isin(images_with_text['img_name'])]\n",
    "print('Removed {} training samples with text'.format(count - len(train_labels)))\n",
    "NUM_CLASSES = len(train_labels.groupby('label').count())\n",
    "\n",
    "# Remove all detected non-food training images from the training data\n",
    "images_with_text = pd.read_csv('./non_food_training_images-2.csv')\n",
    "count = len(train_labels)\n",
    "#train_labels = train_labels[~train_labels['img_name'].isin(images_with_text['img_name'])]\n",
    "print('Removed {} non-food training samples'.format(count - len(train_labels)))\n",
    "NUM_CLASSES = len(train_labels.groupby('label').count())\n",
    "\n",
    "# Remove manually filtered images\n",
    "images_with_text = pd.read_csv('./manual_cleanup.csv')\n",
    "count = len(train_labels)\n",
    "train_labels = train_labels[~train_labels['img_name'].isin(images_with_text['img_name'])]\n",
    "print('Removed {} manually filtered training samples'.format(count - len(train_labels)))\n",
    "NUM_CLASSES = len(train_labels.groupby('label').count())\n",
    "\n",
    "# Shuffle the training labels\n",
    "#train_labels = shuffle(train_labels, random_state=3422545) # Current top score\n",
    "train_labels = shuffle(train_labels, random_state=563456) # Current top score\n",
    "\n",
    "print('{} training labels loaded'.format(len(train_labels)))  "
   ]
  },
  {
   "cell_type": "code",
   "execution_count": 5,
   "metadata": {},
   "outputs": [
    {
     "name": "stdout",
     "output_type": "stream",
     "text": [
      "Found 25823 validated image filenames belonging to 79 classes.\n",
      "Found 4558 validated image filenames belonging to 79 classes.\n",
      "Found 7653 images belonging to 1 classes.\n"
     ]
    }
   ],
   "source": [
    "#####################################################\n",
    "# Create the data generators\n",
    "#####################################################\n",
    "\n",
    "import matplotlib.pyplot as plt\n",
    "import seaborn as sns\n",
    "import keras\n",
    "from keras.models import Sequential\n",
    "from keras.layers import Dense, Conv2D , MaxPool2D , Flatten , Dropout \n",
    "from keras.preprocessing.image import ImageDataGenerator\n",
    "from keras.optimizers import adam_v2\n",
    "from sklearn.metrics import classification_report,confusion_matrix\n",
    "from sklearn.model_selection import train_test_split\n",
    "import tensorflow as tf\n",
    "import numpy as np\n",
    "import datetime\n",
    "from keras.callbacks import TensorBoard, ModelCheckpoint, LearningRateScheduler, EarlyStopping\n",
    "\n",
    "# Create a training and test set generator\n",
    "train_datagen = ImageDataGenerator(\n",
    "        rotation_range=10,\n",
    "        width_shift_range=0.1,\n",
    "        height_shift_range=0.1,\n",
    "        rescale=1./255,\n",
    "        shear_range=0.0,\n",
    "        zoom_range=0.1,\n",
    "        horizontal_flip=True,\n",
    "        fill_mode='nearest')\n",
    "\n",
    "val_datagen = ImageDataGenerator(rescale=1./255)\n",
    "\n",
    "train_split = int(len(train_labels)*0.85)\n",
    "train_dataframe = train_labels[:train_split][['img_name','label']]\n",
    "val_dataframe = train_labels[train_split:][['img_name','label']]\n",
    "\n",
    "train_generator = train_datagen.flow_from_dataframe(\n",
    "    train_dataframe,\n",
    "    x_col = 'img_name',\n",
    "    y_col = 'label',\n",
    "    directory=TRAIN_DIR,\n",
    "    target_size=(IMG_SIZE,IMG_SIZE),\n",
    "    batch_size=BATCH_SIZE,\n",
    "    class_mode='categorical',\n",
    "    shuffle=True\n",
    ")\n",
    "\n",
    "val_generator = val_datagen.flow_from_dataframe(\n",
    "    val_dataframe,\n",
    "    x_col = 'img_name',\n",
    "    y_col = 'label',\n",
    "    directory=TRAIN_DIR,\n",
    "    target_size=(IMG_SIZE,IMG_SIZE),\n",
    "    batch_size=BATCH_SIZE,\n",
    "    class_mode='categorical',\n",
    "    shuffle=False\n",
    ")\n",
    "\n",
    "test_generator = val_datagen.flow_from_directory(\n",
    "        TEST_DIR,\n",
    "        target_size=(IMG_SIZE, IMG_SIZE),\n",
    "        batch_size=BATCH_SIZE,\n",
    "        class_mode='categorical',\n",
    "        shuffle=False)\n",
    "\n",
    "# Early stopping callback, stops the training if there's no more progress\n",
    "early_stopping = EarlyStopping(\n",
    "    monitor='val_acc', \n",
    "    patience=3, \n",
    "    min_delta=0.001, \n",
    "    mode='max'\n",
    ")\n",
    "\n",
    "# Learning rate scheduler callback, decreases the LR during training\n",
    "def lr_scheduler(epoch, lr):\n",
    "    if epoch == 3:\n",
    "        lr = lr/10       # After 3 epochs, divide by 10\n",
    "    \n",
    "    if epoch == 6:\n",
    "        return lr/10\n",
    "\n",
    "    if epoch == 10:\n",
    "        return lr/10\n",
    "\n",
    "    if epoch == 15:\n",
    "        return lr/10\n",
    "\n",
    "    return lr\n",
    "\n",
    "lr_scheduler_callback = LearningRateScheduler(\n",
    "    lr_scheduler\n",
    ")\n",
    "\n",
    "# Model checkpoint callback, stores the model every few epochs during training\n",
    "model_checkpoint_callback = ModelCheckpoint(\n",
    "    MODEL_DIR + 'model_checkpoint',\n",
    "    monitor=\"val_acc\",\n",
    "    verbose=1,\n",
    "    save_weights_only=False,\n",
    "    mode=\"auto\",\n",
    "    save_freq=\"epoch\"\n",
    ")\n",
    "\n",
    "def plot_hist(hist):\n",
    "    plt.plot(hist.history[\"acc\"])\n",
    "    plt.plot(hist.history[\"val_acc\"])\n",
    "    plt.title(\"model accuracy\")\n",
    "    plt.ylabel(\"accuracy\")\n",
    "    plt.xlabel(\"epoch\")\n",
    "    plt.legend([\"train\", \"validation\"], loc=\"upper left\")\n",
    "    plt.show()"
   ]
  },
  {
   "cell_type": "code",
   "execution_count": 200,
   "metadata": {},
   "outputs": [
    {
     "name": "stdout",
     "output_type": "stream",
     "text": [
      "Discarding current model\n"
     ]
    },
    {
     "name": "stderr",
     "output_type": "stream",
     "text": [
      "C:\\Users\\seth\\anaconda3\\envs\\tf\\lib\\site-packages\\keras\\engine\\functional.py:1410: CustomMaskWarning: Custom mask layers require a config and must override get_config. When loading, the custom mask layer must be passed to the custom_objects argument.\n",
      "  layer_config = serialize_layer_fn(layer)\n"
     ]
    },
    {
     "name": "stdout",
     "output_type": "stream",
     "text": [
      "Epoch 1/20\n",
      "1614/1614 [==============================] - ETA: 0s - loss: 2.2301 - acc: 0.4703\n",
      "Epoch 00001: saving model to D:/deeplearning/AML_Foodrecognition/models\\model_checkpoint\n",
      "INFO:tensorflow:Assets written to: D:/deeplearning/AML_Foodrecognition/models\\model_checkpoint\\assets\n",
      "1614/1614 [==============================] - 679s 418ms/step - loss: 2.2301 - acc: 0.4703 - val_loss: 1.4699 - val_acc: 0.6169 - lr: 1.0000e-04\n"
     ]
    },
    {
     "name": "stderr",
     "output_type": "stream",
     "text": [
      "C:\\Users\\seth\\anaconda3\\envs\\tf\\lib\\site-packages\\keras\\engine\\functional.py:1410: CustomMaskWarning: Custom mask layers require a config and must override get_config. When loading, the custom mask layer must be passed to the custom_objects argument.\n",
      "  layer_config = serialize_layer_fn(layer)\n",
      "C:\\Users\\seth\\anaconda3\\envs\\tf\\lib\\site-packages\\keras\\saving\\saved_model\\layer_serialization.py:112: CustomMaskWarning: Custom mask layers require a config and must override get_config. When loading, the custom mask layer must be passed to the custom_objects argument.\n",
      "  return generic_utils.serialize_keras_object(obj)\n"
     ]
    },
    {
     "name": "stdout",
     "output_type": "stream",
     "text": [
      "Epoch 2/20\n",
      "1614/1614 [==============================] - ETA: 0s - loss: 1.2524 - acc: 0.6778\n",
      "Epoch 00002: saving model to D:/deeplearning/AML_Foodrecognition/models\\model_checkpoint\n",
      "INFO:tensorflow:Assets written to: D:/deeplearning/AML_Foodrecognition/models\\model_checkpoint\\assets\n",
      "1614/1614 [==============================] - 760s 471ms/step - loss: 1.2524 - acc: 0.6778 - val_loss: 1.3220 - val_acc: 0.6604 - lr: 1.0000e-04\n"
     ]
    },
    {
     "name": "stderr",
     "output_type": "stream",
     "text": [
      "C:\\Users\\seth\\anaconda3\\envs\\tf\\lib\\site-packages\\keras\\engine\\functional.py:1410: CustomMaskWarning: Custom mask layers require a config and must override get_config. When loading, the custom mask layer must be passed to the custom_objects argument.\n",
      "  layer_config = serialize_layer_fn(layer)\n",
      "C:\\Users\\seth\\anaconda3\\envs\\tf\\lib\\site-packages\\keras\\saving\\saved_model\\layer_serialization.py:112: CustomMaskWarning: Custom mask layers require a config and must override get_config. When loading, the custom mask layer must be passed to the custom_objects argument.\n",
      "  return generic_utils.serialize_keras_object(obj)\n"
     ]
    },
    {
     "name": "stdout",
     "output_type": "stream",
     "text": [
      "Epoch 3/20\n",
      "1614/1614 [==============================] - ETA: 0s - loss: 0.8816 - acc: 0.7652\n",
      "Epoch 00003: saving model to D:/deeplearning/AML_Foodrecognition/models\\model_checkpoint\n",
      "INFO:tensorflow:Assets written to: D:/deeplearning/AML_Foodrecognition/models\\model_checkpoint\\assets\n",
      "1614/1614 [==============================] - 707s 438ms/step - loss: 0.8816 - acc: 0.7652 - val_loss: 1.3467 - val_acc: 0.6619 - lr: 1.0000e-04\n"
     ]
    },
    {
     "name": "stderr",
     "output_type": "stream",
     "text": [
      "C:\\Users\\seth\\anaconda3\\envs\\tf\\lib\\site-packages\\keras\\engine\\functional.py:1410: CustomMaskWarning: Custom mask layers require a config and must override get_config. When loading, the custom mask layer must be passed to the custom_objects argument.\n",
      "  layer_config = serialize_layer_fn(layer)\n",
      "C:\\Users\\seth\\anaconda3\\envs\\tf\\lib\\site-packages\\keras\\saving\\saved_model\\layer_serialization.py:112: CustomMaskWarning: Custom mask layers require a config and must override get_config. When loading, the custom mask layer must be passed to the custom_objects argument.\n",
      "  return generic_utils.serialize_keras_object(obj)\n"
     ]
    },
    {
     "name": "stdout",
     "output_type": "stream",
     "text": [
      "Epoch 4/20\n",
      "1614/1614 [==============================] - ETA: 0s - loss: 0.5097 - acc: 0.8720\n",
      "Epoch 00004: saving model to D:/deeplearning/AML_Foodrecognition/models\\model_checkpoint\n",
      "INFO:tensorflow:Assets written to: D:/deeplearning/AML_Foodrecognition/models\\model_checkpoint\\assets\n",
      "1614/1614 [==============================] - 664s 411ms/step - loss: 0.5097 - acc: 0.8720 - val_loss: 1.2036 - val_acc: 0.6975 - lr: 1.0000e-05\n"
     ]
    },
    {
     "name": "stderr",
     "output_type": "stream",
     "text": [
      "C:\\Users\\seth\\anaconda3\\envs\\tf\\lib\\site-packages\\keras\\engine\\functional.py:1410: CustomMaskWarning: Custom mask layers require a config and must override get_config. When loading, the custom mask layer must be passed to the custom_objects argument.\n",
      "  layer_config = serialize_layer_fn(layer)\n",
      "C:\\Users\\seth\\anaconda3\\envs\\tf\\lib\\site-packages\\keras\\saving\\saved_model\\layer_serialization.py:112: CustomMaskWarning: Custom mask layers require a config and must override get_config. When loading, the custom mask layer must be passed to the custom_objects argument.\n",
      "  return generic_utils.serialize_keras_object(obj)\n"
     ]
    },
    {
     "name": "stdout",
     "output_type": "stream",
     "text": [
      "Epoch 5/20\n",
      "1614/1614 [==============================] - ETA: 0s - loss: 0.4316 - acc: 0.8929\n",
      "Epoch 00005: saving model to D:/deeplearning/AML_Foodrecognition/models\\model_checkpoint\n",
      "INFO:tensorflow:Assets written to: D:/deeplearning/AML_Foodrecognition/models\\model_checkpoint\\assets\n",
      "1614/1614 [==============================] - 679s 420ms/step - loss: 0.4316 - acc: 0.8929 - val_loss: 1.2103 - val_acc: 0.6955 - lr: 1.0000e-05\n"
     ]
    },
    {
     "name": "stderr",
     "output_type": "stream",
     "text": [
      "C:\\Users\\seth\\anaconda3\\envs\\tf\\lib\\site-packages\\keras\\engine\\functional.py:1410: CustomMaskWarning: Custom mask layers require a config and must override get_config. When loading, the custom mask layer must be passed to the custom_objects argument.\n",
      "  layer_config = serialize_layer_fn(layer)\n",
      "C:\\Users\\seth\\anaconda3\\envs\\tf\\lib\\site-packages\\keras\\saving\\saved_model\\layer_serialization.py:112: CustomMaskWarning: Custom mask layers require a config and must override get_config. When loading, the custom mask layer must be passed to the custom_objects argument.\n",
      "  return generic_utils.serialize_keras_object(obj)\n"
     ]
    },
    {
     "name": "stdout",
     "output_type": "stream",
     "text": [
      "Epoch 6/20\n",
      " 764/1614 [=============>................] - ETA: 5:33 - loss: 0.3723 - acc: 0.9124"
     ]
    },
    {
     "ename": "KeyboardInterrupt",
     "evalue": "",
     "output_type": "error",
     "traceback": [
      "\u001b[1;31m---------------------------------------------------------------------------\u001b[0m",
      "\u001b[1;31mKeyboardInterrupt\u001b[0m                         Traceback (most recent call last)",
      "\u001b[1;32m~\\AppData\\Local\\Temp/ipykernel_3408/1223714784.py\u001b[0m in \u001b[0;36m<module>\u001b[1;34m\u001b[0m\n\u001b[0;32m     42\u001b[0m               metrics=['acc'])\n\u001b[0;32m     43\u001b[0m \u001b[1;33m\u001b[0m\u001b[0m\n\u001b[1;32m---> 44\u001b[1;33m hist = model.fit(\n\u001b[0m\u001b[0;32m     45\u001b[0m     \u001b[0mtrain_generator\u001b[0m\u001b[1;33m,\u001b[0m\u001b[1;33m\u001b[0m\u001b[1;33m\u001b[0m\u001b[0m\n\u001b[0;32m     46\u001b[0m     \u001b[0mepochs\u001b[0m\u001b[1;33m=\u001b[0m\u001b[0mEPOCHS\u001b[0m\u001b[1;33m,\u001b[0m\u001b[1;33m\u001b[0m\u001b[1;33m\u001b[0m\u001b[0m\n",
      "\u001b[1;32m~\\anaconda3\\envs\\tf\\lib\\site-packages\\keras\\utils\\traceback_utils.py\u001b[0m in \u001b[0;36merror_handler\u001b[1;34m(*args, **kwargs)\u001b[0m\n\u001b[0;32m     62\u001b[0m     \u001b[0mfiltered_tb\u001b[0m \u001b[1;33m=\u001b[0m \u001b[1;32mNone\u001b[0m\u001b[1;33m\u001b[0m\u001b[1;33m\u001b[0m\u001b[0m\n\u001b[0;32m     63\u001b[0m     \u001b[1;32mtry\u001b[0m\u001b[1;33m:\u001b[0m\u001b[1;33m\u001b[0m\u001b[1;33m\u001b[0m\u001b[0m\n\u001b[1;32m---> 64\u001b[1;33m       \u001b[1;32mreturn\u001b[0m \u001b[0mfn\u001b[0m\u001b[1;33m(\u001b[0m\u001b[1;33m*\u001b[0m\u001b[0margs\u001b[0m\u001b[1;33m,\u001b[0m \u001b[1;33m**\u001b[0m\u001b[0mkwargs\u001b[0m\u001b[1;33m)\u001b[0m\u001b[1;33m\u001b[0m\u001b[1;33m\u001b[0m\u001b[0m\n\u001b[0m\u001b[0;32m     65\u001b[0m     \u001b[1;32mexcept\u001b[0m \u001b[0mException\u001b[0m \u001b[1;32mas\u001b[0m \u001b[0me\u001b[0m\u001b[1;33m:\u001b[0m  \u001b[1;31m# pylint: disable=broad-except\u001b[0m\u001b[1;33m\u001b[0m\u001b[1;33m\u001b[0m\u001b[0m\n\u001b[0;32m     66\u001b[0m       \u001b[0mfiltered_tb\u001b[0m \u001b[1;33m=\u001b[0m \u001b[0m_process_traceback_frames\u001b[0m\u001b[1;33m(\u001b[0m\u001b[0me\u001b[0m\u001b[1;33m.\u001b[0m\u001b[0m__traceback__\u001b[0m\u001b[1;33m)\u001b[0m\u001b[1;33m\u001b[0m\u001b[1;33m\u001b[0m\u001b[0m\n",
      "\u001b[1;32m~\\anaconda3\\envs\\tf\\lib\\site-packages\\keras\\engine\\training.py\u001b[0m in \u001b[0;36mfit\u001b[1;34m(self, x, y, batch_size, epochs, verbose, callbacks, validation_split, validation_data, shuffle, class_weight, sample_weight, initial_epoch, steps_per_epoch, validation_steps, validation_batch_size, validation_freq, max_queue_size, workers, use_multiprocessing)\u001b[0m\n\u001b[0;32m   1214\u001b[0m                 _r=1):\n\u001b[0;32m   1215\u001b[0m               \u001b[0mcallbacks\u001b[0m\u001b[1;33m.\u001b[0m\u001b[0mon_train_batch_begin\u001b[0m\u001b[1;33m(\u001b[0m\u001b[0mstep\u001b[0m\u001b[1;33m)\u001b[0m\u001b[1;33m\u001b[0m\u001b[1;33m\u001b[0m\u001b[0m\n\u001b[1;32m-> 1216\u001b[1;33m               \u001b[0mtmp_logs\u001b[0m \u001b[1;33m=\u001b[0m \u001b[0mself\u001b[0m\u001b[1;33m.\u001b[0m\u001b[0mtrain_function\u001b[0m\u001b[1;33m(\u001b[0m\u001b[0miterator\u001b[0m\u001b[1;33m)\u001b[0m\u001b[1;33m\u001b[0m\u001b[1;33m\u001b[0m\u001b[0m\n\u001b[0m\u001b[0;32m   1217\u001b[0m               \u001b[1;32mif\u001b[0m \u001b[0mdata_handler\u001b[0m\u001b[1;33m.\u001b[0m\u001b[0mshould_sync\u001b[0m\u001b[1;33m:\u001b[0m\u001b[1;33m\u001b[0m\u001b[1;33m\u001b[0m\u001b[0m\n\u001b[0;32m   1218\u001b[0m                 \u001b[0mcontext\u001b[0m\u001b[1;33m.\u001b[0m\u001b[0masync_wait\u001b[0m\u001b[1;33m(\u001b[0m\u001b[1;33m)\u001b[0m\u001b[1;33m\u001b[0m\u001b[1;33m\u001b[0m\u001b[0m\n",
      "\u001b[1;32m~\\anaconda3\\envs\\tf\\lib\\site-packages\\tensorflow\\python\\util\\traceback_utils.py\u001b[0m in \u001b[0;36merror_handler\u001b[1;34m(*args, **kwargs)\u001b[0m\n\u001b[0;32m    148\u001b[0m     \u001b[0mfiltered_tb\u001b[0m \u001b[1;33m=\u001b[0m \u001b[1;32mNone\u001b[0m\u001b[1;33m\u001b[0m\u001b[1;33m\u001b[0m\u001b[0m\n\u001b[0;32m    149\u001b[0m     \u001b[1;32mtry\u001b[0m\u001b[1;33m:\u001b[0m\u001b[1;33m\u001b[0m\u001b[1;33m\u001b[0m\u001b[0m\n\u001b[1;32m--> 150\u001b[1;33m       \u001b[1;32mreturn\u001b[0m \u001b[0mfn\u001b[0m\u001b[1;33m(\u001b[0m\u001b[1;33m*\u001b[0m\u001b[0margs\u001b[0m\u001b[1;33m,\u001b[0m \u001b[1;33m**\u001b[0m\u001b[0mkwargs\u001b[0m\u001b[1;33m)\u001b[0m\u001b[1;33m\u001b[0m\u001b[1;33m\u001b[0m\u001b[0m\n\u001b[0m\u001b[0;32m    151\u001b[0m     \u001b[1;32mexcept\u001b[0m \u001b[0mException\u001b[0m \u001b[1;32mas\u001b[0m \u001b[0me\u001b[0m\u001b[1;33m:\u001b[0m\u001b[1;33m\u001b[0m\u001b[1;33m\u001b[0m\u001b[0m\n\u001b[0;32m    152\u001b[0m       \u001b[0mfiltered_tb\u001b[0m \u001b[1;33m=\u001b[0m \u001b[0m_process_traceback_frames\u001b[0m\u001b[1;33m(\u001b[0m\u001b[0me\u001b[0m\u001b[1;33m.\u001b[0m\u001b[0m__traceback__\u001b[0m\u001b[1;33m)\u001b[0m\u001b[1;33m\u001b[0m\u001b[1;33m\u001b[0m\u001b[0m\n",
      "\u001b[1;32m~\\anaconda3\\envs\\tf\\lib\\site-packages\\tensorflow\\python\\eager\\def_function.py\u001b[0m in \u001b[0;36m__call__\u001b[1;34m(self, *args, **kwds)\u001b[0m\n\u001b[0;32m    908\u001b[0m \u001b[1;33m\u001b[0m\u001b[0m\n\u001b[0;32m    909\u001b[0m       \u001b[1;32mwith\u001b[0m \u001b[0mOptionalXlaContext\u001b[0m\u001b[1;33m(\u001b[0m\u001b[0mself\u001b[0m\u001b[1;33m.\u001b[0m\u001b[0m_jit_compile\u001b[0m\u001b[1;33m)\u001b[0m\u001b[1;33m:\u001b[0m\u001b[1;33m\u001b[0m\u001b[1;33m\u001b[0m\u001b[0m\n\u001b[1;32m--> 910\u001b[1;33m         \u001b[0mresult\u001b[0m \u001b[1;33m=\u001b[0m \u001b[0mself\u001b[0m\u001b[1;33m.\u001b[0m\u001b[0m_call\u001b[0m\u001b[1;33m(\u001b[0m\u001b[1;33m*\u001b[0m\u001b[0margs\u001b[0m\u001b[1;33m,\u001b[0m \u001b[1;33m**\u001b[0m\u001b[0mkwds\u001b[0m\u001b[1;33m)\u001b[0m\u001b[1;33m\u001b[0m\u001b[1;33m\u001b[0m\u001b[0m\n\u001b[0m\u001b[0;32m    911\u001b[0m \u001b[1;33m\u001b[0m\u001b[0m\n\u001b[0;32m    912\u001b[0m       \u001b[0mnew_tracing_count\u001b[0m \u001b[1;33m=\u001b[0m \u001b[0mself\u001b[0m\u001b[1;33m.\u001b[0m\u001b[0mexperimental_get_tracing_count\u001b[0m\u001b[1;33m(\u001b[0m\u001b[1;33m)\u001b[0m\u001b[1;33m\u001b[0m\u001b[1;33m\u001b[0m\u001b[0m\n",
      "\u001b[1;32m~\\anaconda3\\envs\\tf\\lib\\site-packages\\tensorflow\\python\\eager\\def_function.py\u001b[0m in \u001b[0;36m_call\u001b[1;34m(self, *args, **kwds)\u001b[0m\n\u001b[0;32m    940\u001b[0m       \u001b[1;31m# In this case we have created variables on the first call, so we run the\u001b[0m\u001b[1;33m\u001b[0m\u001b[1;33m\u001b[0m\u001b[1;33m\u001b[0m\u001b[0m\n\u001b[0;32m    941\u001b[0m       \u001b[1;31m# defunned version which is guaranteed to never create variables.\u001b[0m\u001b[1;33m\u001b[0m\u001b[1;33m\u001b[0m\u001b[1;33m\u001b[0m\u001b[0m\n\u001b[1;32m--> 942\u001b[1;33m       \u001b[1;32mreturn\u001b[0m \u001b[0mself\u001b[0m\u001b[1;33m.\u001b[0m\u001b[0m_stateless_fn\u001b[0m\u001b[1;33m(\u001b[0m\u001b[1;33m*\u001b[0m\u001b[0margs\u001b[0m\u001b[1;33m,\u001b[0m \u001b[1;33m**\u001b[0m\u001b[0mkwds\u001b[0m\u001b[1;33m)\u001b[0m  \u001b[1;31m# pylint: disable=not-callable\u001b[0m\u001b[1;33m\u001b[0m\u001b[1;33m\u001b[0m\u001b[0m\n\u001b[0m\u001b[0;32m    943\u001b[0m     \u001b[1;32melif\u001b[0m \u001b[0mself\u001b[0m\u001b[1;33m.\u001b[0m\u001b[0m_stateful_fn\u001b[0m \u001b[1;32mis\u001b[0m \u001b[1;32mnot\u001b[0m \u001b[1;32mNone\u001b[0m\u001b[1;33m:\u001b[0m\u001b[1;33m\u001b[0m\u001b[1;33m\u001b[0m\u001b[0m\n\u001b[0;32m    944\u001b[0m       \u001b[1;31m# Release the lock early so that multiple threads can perform the call\u001b[0m\u001b[1;33m\u001b[0m\u001b[1;33m\u001b[0m\u001b[1;33m\u001b[0m\u001b[0m\n",
      "\u001b[1;32m~\\anaconda3\\envs\\tf\\lib\\site-packages\\tensorflow\\python\\eager\\function.py\u001b[0m in \u001b[0;36m__call__\u001b[1;34m(self, *args, **kwargs)\u001b[0m\n\u001b[0;32m   3128\u001b[0m       (graph_function,\n\u001b[0;32m   3129\u001b[0m        filtered_flat_args) = self._maybe_define_function(args, kwargs)\n\u001b[1;32m-> 3130\u001b[1;33m     return graph_function._call_flat(\n\u001b[0m\u001b[0;32m   3131\u001b[0m         filtered_flat_args, captured_inputs=graph_function.captured_inputs)  # pylint: disable=protected-access\n\u001b[0;32m   3132\u001b[0m \u001b[1;33m\u001b[0m\u001b[0m\n",
      "\u001b[1;32m~\\anaconda3\\envs\\tf\\lib\\site-packages\\tensorflow\\python\\eager\\function.py\u001b[0m in \u001b[0;36m_call_flat\u001b[1;34m(self, args, captured_inputs, cancellation_manager)\u001b[0m\n\u001b[0;32m   1957\u001b[0m         and executing_eagerly):\n\u001b[0;32m   1958\u001b[0m       \u001b[1;31m# No tape is watching; skip to running the function.\u001b[0m\u001b[1;33m\u001b[0m\u001b[1;33m\u001b[0m\u001b[1;33m\u001b[0m\u001b[0m\n\u001b[1;32m-> 1959\u001b[1;33m       return self._build_call_outputs(self._inference_function.call(\n\u001b[0m\u001b[0;32m   1960\u001b[0m           ctx, args, cancellation_manager=cancellation_manager))\n\u001b[0;32m   1961\u001b[0m     forward_backward = self._select_forward_and_backward_functions(\n",
      "\u001b[1;32m~\\anaconda3\\envs\\tf\\lib\\site-packages\\tensorflow\\python\\eager\\function.py\u001b[0m in \u001b[0;36mcall\u001b[1;34m(self, ctx, args, cancellation_manager)\u001b[0m\n\u001b[0;32m    596\u001b[0m       \u001b[1;32mwith\u001b[0m \u001b[0m_InterpolateFunctionError\u001b[0m\u001b[1;33m(\u001b[0m\u001b[0mself\u001b[0m\u001b[1;33m)\u001b[0m\u001b[1;33m:\u001b[0m\u001b[1;33m\u001b[0m\u001b[1;33m\u001b[0m\u001b[0m\n\u001b[0;32m    597\u001b[0m         \u001b[1;32mif\u001b[0m \u001b[0mcancellation_manager\u001b[0m \u001b[1;32mis\u001b[0m \u001b[1;32mNone\u001b[0m\u001b[1;33m:\u001b[0m\u001b[1;33m\u001b[0m\u001b[1;33m\u001b[0m\u001b[0m\n\u001b[1;32m--> 598\u001b[1;33m           outputs = execute.execute(\n\u001b[0m\u001b[0;32m    599\u001b[0m               \u001b[0mstr\u001b[0m\u001b[1;33m(\u001b[0m\u001b[0mself\u001b[0m\u001b[1;33m.\u001b[0m\u001b[0msignature\u001b[0m\u001b[1;33m.\u001b[0m\u001b[0mname\u001b[0m\u001b[1;33m)\u001b[0m\u001b[1;33m,\u001b[0m\u001b[1;33m\u001b[0m\u001b[1;33m\u001b[0m\u001b[0m\n\u001b[0;32m    600\u001b[0m               \u001b[0mnum_outputs\u001b[0m\u001b[1;33m=\u001b[0m\u001b[0mself\u001b[0m\u001b[1;33m.\u001b[0m\u001b[0m_num_outputs\u001b[0m\u001b[1;33m,\u001b[0m\u001b[1;33m\u001b[0m\u001b[1;33m\u001b[0m\u001b[0m\n",
      "\u001b[1;32m~\\anaconda3\\envs\\tf\\lib\\site-packages\\tensorflow\\python\\eager\\execute.py\u001b[0m in \u001b[0;36mquick_execute\u001b[1;34m(op_name, num_outputs, inputs, attrs, ctx, name)\u001b[0m\n\u001b[0;32m     56\u001b[0m   \u001b[1;32mtry\u001b[0m\u001b[1;33m:\u001b[0m\u001b[1;33m\u001b[0m\u001b[1;33m\u001b[0m\u001b[0m\n\u001b[0;32m     57\u001b[0m     \u001b[0mctx\u001b[0m\u001b[1;33m.\u001b[0m\u001b[0mensure_initialized\u001b[0m\u001b[1;33m(\u001b[0m\u001b[1;33m)\u001b[0m\u001b[1;33m\u001b[0m\u001b[1;33m\u001b[0m\u001b[0m\n\u001b[1;32m---> 58\u001b[1;33m     tensors = pywrap_tfe.TFE_Py_Execute(ctx._handle, device_name, op_name,\n\u001b[0m\u001b[0;32m     59\u001b[0m                                         inputs, attrs, num_outputs)\n\u001b[0;32m     60\u001b[0m   \u001b[1;32mexcept\u001b[0m \u001b[0mcore\u001b[0m\u001b[1;33m.\u001b[0m\u001b[0m_NotOkStatusException\u001b[0m \u001b[1;32mas\u001b[0m \u001b[0me\u001b[0m\u001b[1;33m:\u001b[0m\u001b[1;33m\u001b[0m\u001b[1;33m\u001b[0m\u001b[0m\n",
      "\u001b[1;31mKeyboardInterrupt\u001b[0m: "
     ]
    }
   ],
   "source": [
    "##################################################\n",
    "# Train Xception model\n",
    "##################################################\n",
    "\n",
    "run_name = input('Name this run')\n",
    "\n",
    "from tensorflow.keras.models import Sequential, Model\n",
    "from tensorflow.keras.layers import Dense, Flatten, Conv2D, MaxPool2D, GlobalAveragePooling2D, Dropout\n",
    "from tensorflow.keras.applications.xception import Xception\n",
    "from tensorflow.keras.optimizers import Adam\n",
    "\n",
    "# Define Tensorboard callback with dedicated log directory\n",
    "log_dir = \"logs/fit/\" + run_name + '-' + datetime.datetime.now().strftime(\"%Y%m%d-%H%M%S\")\n",
    "tb_callback = TensorBoard(log_dir=log_dir, update_freq=1)\n",
    "\n",
    "def InitializeXceptionModel():\n",
    "    # Defining the pretrained base model\n",
    "    base = Xception(include_top=False, weights='imagenet', input_shape=(IMG_SIZE,IMG_SIZE,3))\n",
    "    x = base.output\n",
    "    x = GlobalAveragePooling2D()(x)\n",
    "    # On more dense layers + dropout, didn't improve at all\n",
    "    #x = Dense(512, activation=\"relu\")(x) # Adding dense 512 + dropout lowered to 59%\n",
    "    #x = Dropout(0.2)(x)\n",
    "    #x = Dense(256, activation=\"relu\")(x)\n",
    "    # Defining the head of the model where the prediction is conducted\n",
    "    head = Dense(NUM_CLASSES, activation='softmax')(x)\n",
    "    # Combining base and head \n",
    "    model = Model(inputs=base.input, outputs=head)\n",
    "\n",
    "    return model\n",
    "\n",
    "if 'model' in locals() or 'model' in globals():\n",
    "    if input('Train a fresh model?') == 'y':\n",
    "        print('Discarding current model')\n",
    "        model = InitializeXceptionModel()\n",
    "else:\n",
    "    model = InitializeXceptionModel()\n",
    "\n",
    "# Compiling the model\n",
    "model.compile(optimizer=Adam(learning_rate=0.0001), \n",
    "              loss = 'categorical_crossentropy', \n",
    "              metrics=['acc'])\n",
    "\n",
    "hist = model.fit(\n",
    "    train_generator, \n",
    "    epochs=EPOCHS, \n",
    "    #steps_per_epoch=int(len(train_dataframe)/BATCH_SIZE/2), \n",
    "    validation_data=val_generator, \n",
    "    #validation_steps=int(len(val_dataframe)/BATCH_SIZE/2),\n",
    "    verbose=1,\n",
    "    #class_weight = class_weights_dict,\n",
    "    callbacks=[tb_callback, lr_scheduler_callback, model_checkpoint_callback])#, early_stopping])\n",
    "\n",
    "plot_hist(hist)"
   ]
  },
  {
   "cell_type": "code",
   "execution_count": 202,
   "metadata": {},
   "outputs": [
    {
     "name": "stdout",
     "output_type": "stream",
     "text": [
      "INFO:tensorflow:Assets written to: D:/deeplearning/AML_Foodrecognition/models/20211217-180516model.xception.79c.299pxxvalidation-ensemble-model3.69p\\assets\n"
     ]
    },
    {
     "name": "stderr",
     "output_type": "stream",
     "text": [
      "C:\\Users\\seth\\anaconda3\\envs\\tf\\lib\\site-packages\\keras\\engine\\functional.py:1410: CustomMaskWarning: Custom mask layers require a config and must override get_config. When loading, the custom mask layer must be passed to the custom_objects argument.\n",
      "  layer_config = serialize_layer_fn(layer)\n",
      "C:\\Users\\seth\\anaconda3\\envs\\tf\\lib\\site-packages\\keras\\saving\\saved_model\\layer_serialization.py:112: CustomMaskWarning: Custom mask layers require a config and must override get_config. When loading, the custom mask layer must be passed to the custom_objects argument.\n",
      "  return generic_utils.serialize_keras_object(obj)\n"
     ]
    }
   ],
   "source": [
    "#######################################################\n",
    "#  Save the model\n",
    "#######################################################\n",
    "\n",
    "# TODO: model name in filename\n",
    "model.save(MODEL_DIR + datetime.datetime.now().strftime(\"%Y%m%d-%H%M%S\") + \n",
    "    'model.' + 'xception' +\n",
    "    '.' + str(NUM_CLASSES) + 'c.' +\n",
    "    str(IMG_SIZE) + 'px' + run_name + '.69p')"
   ]
  },
  {
   "cell_type": "code",
   "execution_count": 3,
   "metadata": {},
   "outputs": [],
   "source": [
    "#######################################################\n",
    "#  Load a model\n",
    "#######################################################\n",
    "from tensorflow.keras import models\n",
    "\n",
    "#model = models.load_model(MODEL_DIR + 'model_checkpoint')\n",
    "#model = models.load_model(MODEL_DIR + '20211217-093240model.xception.79c.299pxmanual-filter-4-classes')\n",
    "model1 = models.load_model(MODEL_DIR + '20211215-162121model.xception.79c.299px.69p-removed-class-20 GOOD')\n",
    "model2 = models.load_model(MODEL_DIR + '20211217-132047model.xception.79c.299pxclass-weights-retry.68p GOOD')\n",
    "model3 = models.load_model(MODEL_DIR + '20211217-180516model.xception.79c.299pxxvalidation-ensemble-model3.69p GOOD')"
   ]
  },
  {
   "cell_type": "code",
   "execution_count": 203,
   "metadata": {},
   "outputs": [],
   "source": [
    "model1 = model\n",
    "model2 = model"
   ]
  },
  {
   "cell_type": "code",
   "execution_count": 7,
   "metadata": {},
   "outputs": [
    {
     "name": "stdout",
     "output_type": "stream",
     "text": [
      "479/479 [==============================] - 36s 75ms/step\n",
      "479/479 [==============================] - 36s 76ms/step\n",
      "479/479 [==============================] - 36s 76ms/step\n"
     ]
    },
    {
     "data": {
      "text/html": [
       "<div>\n",
       "<style scoped>\n",
       "    .dataframe tbody tr th:only-of-type {\n",
       "        vertical-align: middle;\n",
       "    }\n",
       "\n",
       "    .dataframe tbody tr th {\n",
       "        vertical-align: top;\n",
       "    }\n",
       "\n",
       "    .dataframe thead th {\n",
       "        text-align: right;\n",
       "    }\n",
       "</style>\n",
       "<table border=\"1\" class=\"dataframe\">\n",
       "  <thead>\n",
       "    <tr style=\"text-align: right;\">\n",
       "      <th></th>\n",
       "      <th>img_name</th>\n",
       "      <th>label</th>\n",
       "    </tr>\n",
       "  </thead>\n",
       "  <tbody>\n",
       "    <tr>\n",
       "      <th>0</th>\n",
       "      <td>test_1.jpg</td>\n",
       "      <td>15</td>\n",
       "    </tr>\n",
       "    <tr>\n",
       "      <th>1</th>\n",
       "      <td>test_10.jpg</td>\n",
       "      <td>45</td>\n",
       "    </tr>\n",
       "    <tr>\n",
       "      <th>2</th>\n",
       "      <td>test_100.jpg</td>\n",
       "      <td>34</td>\n",
       "    </tr>\n",
       "    <tr>\n",
       "      <th>3</th>\n",
       "      <td>test_1000.jpg</td>\n",
       "      <td>29</td>\n",
       "    </tr>\n",
       "    <tr>\n",
       "      <th>4</th>\n",
       "      <td>test_1001.jpg</td>\n",
       "      <td>32</td>\n",
       "    </tr>\n",
       "    <tr>\n",
       "      <th>...</th>\n",
       "      <td>...</td>\n",
       "      <td>...</td>\n",
       "    </tr>\n",
       "    <tr>\n",
       "      <th>7648</th>\n",
       "      <td>test_995.jpg</td>\n",
       "      <td>39</td>\n",
       "    </tr>\n",
       "    <tr>\n",
       "      <th>7649</th>\n",
       "      <td>test_996.jpg</td>\n",
       "      <td>74</td>\n",
       "    </tr>\n",
       "    <tr>\n",
       "      <th>7650</th>\n",
       "      <td>test_997.jpg</td>\n",
       "      <td>69</td>\n",
       "    </tr>\n",
       "    <tr>\n",
       "      <th>7651</th>\n",
       "      <td>test_998.jpg</td>\n",
       "      <td>60</td>\n",
       "    </tr>\n",
       "    <tr>\n",
       "      <th>7652</th>\n",
       "      <td>test_999.jpg</td>\n",
       "      <td>14</td>\n",
       "    </tr>\n",
       "  </tbody>\n",
       "</table>\n",
       "<p>7653 rows × 2 columns</p>\n",
       "</div>"
      ],
      "text/plain": [
       "           img_name label\n",
       "0        test_1.jpg    15\n",
       "1       test_10.jpg    45\n",
       "2      test_100.jpg    34\n",
       "3     test_1000.jpg    29\n",
       "4     test_1001.jpg    32\n",
       "...             ...   ...\n",
       "7648   test_995.jpg    39\n",
       "7649   test_996.jpg    74\n",
       "7650   test_997.jpg    69\n",
       "7651   test_998.jpg    60\n",
       "7652   test_999.jpg    14\n",
       "\n",
       "[7653 rows x 2 columns]"
      ]
     },
     "execution_count": 7,
     "metadata": {},
     "output_type": "execute_result"
    }
   ],
   "source": [
    "#######################################################\n",
    "#  Classify the test set\n",
    "#######################################################\n",
    "\n",
    "# Classify\n",
    "test_generator.reset()\n",
    "probabilities1 = model1.predict(test_generator, verbose=1)\n",
    "probabilities2 = model2.predict(test_generator, verbose=1)\n",
    "probabilities3 = model3.predict(test_generator, verbose=1)\n",
    "filenames = test_generator.filenames.copy()\n",
    "for i in range(0,len(filenames)):\n",
    "    filenames[i] = filenames[i][filenames[i].rfind('\\\\')+1:]\n",
    "\n",
    "probabilities = (probabilities1*1/3) + (probabilities2*1/3) + (probabilities3*1/3)\n",
    "predicted_class_indices = np.argmax(probabilities, axis=-1)\n",
    "\n",
    "labels = (train_generator.class_indices)\n",
    "labels = dict((v,k) for k,v in labels.items())\n",
    "predictions = [labels[k] for k in predicted_class_indices]\n",
    "\n",
    "# Create the pandas DataFrame\n",
    "results=pd.DataFrame({\"img_name\":filenames,\n",
    "                      \"label\":predictions})\n",
    "\n",
    "results.to_csv(DATA_DIR + '/predictions.csv', index=False)\n",
    "results"
   ]
  },
  {
   "cell_type": "code",
   "execution_count": 64,
   "metadata": {},
   "outputs": [
    {
     "name": "stdout",
     "output_type": "stream",
     "text": [
      "test_1002.jpg\n"
     ]
    },
    {
     "data": {
      "text/plain": [
       "<AxesSubplot:>"
      ]
     },
     "execution_count": 64,
     "metadata": {},
     "output_type": "execute_result"
    },
    {
     "data": {
      "image/png": "[encoded data removed]",
      "text/plain": [
       "<Figure size 432x288 with 1 Axes>"
      ]
     },
     "metadata": {
      "needs_background": "light"
     },
     "output_type": "display_data"
    },
    {
     "data": {
      "image/png": "[encoded data removed]",
      "text/plain": [
       "<Figure size 432x288 with 1 Axes>"
      ]
     },
     "metadata": {
      "needs_background": "light"
     },
     "output_type": "display_data"
    },
    {
     "data": {
      "image/png": "[encoded data removed]",
      "text/plain": [
       "<Figure size 432x288 with 1 Axes>"
      ]
     },
     "metadata": {
      "needs_background": "light"
     },
     "output_type": "display_data"
    }
   ],
   "source": [
    "i = 5\n",
    "print(results['img_name'][i])\n",
    "probabilities = (probabilities1/2) + (probabilities2/2)\n",
    "probabilities[0]\n",
    "p=pd.DataFrame({\"p\": probabilities1[i]})\n",
    "p.plot()\n",
    "p=pd.DataFrame({\"p\": probabilities2[i]})\n",
    "p.plot()\n",
    "p=pd.DataFrame({\"p\": probabilities[i]})\n",
    "p.plot()"
   ]
  },
  {
   "cell_type": "code",
   "execution_count": null,
   "metadata": {},
   "outputs": [],
   "source": [
    "#######################################################\n",
    "#  Look for confusing training images\n",
    "#######################################################\n",
    "\n",
    "train_set_datagen = ImageDataGenerator(rescale=1./255)\n",
    "\n",
    "train_set_generator = train_set_datagen.flow_from_dataframe(\n",
    "    train_labels,\n",
    "    x_col = 'img_name',\n",
    "    y_col = 'label',\n",
    "    directory=TRAIN_DIR,\n",
    "    target_size=(IMG_SIZE,IMG_SIZE),\n",
    "    batch_size=100,\n",
    "    class_mode='categorical',\n",
    "    shuffle=False\n",
    ")\n",
    "\n",
    "# Classify\n",
    "train_set_generator.reset()\n",
    "#probabilities = model.predict(train_set_generator, batch_size=32, verbose=1, steps=10, workers=2)\n",
    "probabilities = model.predict(train_set_generator, verbose=1, workers=2)"
   ]
  },
  {
   "cell_type": "code",
   "execution_count": null,
   "metadata": {},
   "outputs": [],
   "source": [
    "#######################################################\n",
    "#  Display the confusing training images\n",
    "#######################################################\n",
    "\n",
    "from PIL import Image\n",
    "fig, axs = plt.subplots(ncols=2, nrows=8)\n",
    "fig.set_size_inches(15, 30)\n",
    "\n",
    "# Show images that were hard to classify\n",
    "confidence_threshold = 0.3\n",
    "\n",
    "filenames = pd.DataFrame({'filename':train_set_generator.filenames.copy()})\n",
    "hard_images = filenames[np.max(probabilities, axis=1) < confidence_threshold]\n",
    "print('Found {} confusing training images at a {} confidence threshold'.format(len(hard_images), confidence_threshold))\n",
    "\n",
    "row = 0\n",
    "for idx in hard_images.sample(frac=1).index:\n",
    "    # Load image\n",
    "    img = Image.open(TRAIN_DIR + hard_images.loc[idx]['filename'])\n",
    "\n",
    "    # Plot image    \n",
    "    axs[row, 0].imshow(img)\n",
    "    #axs[row, 0].set_title('Class: ' + hard_images.loc[idx]['label'])\n",
    "\n",
    "    # Plot probabilities\n",
    "    axs[row, 1].plot(probabilities[idx])\n",
    "    axs[row, 1].set_title('Max:' + str(max(probabilities[idx])))\n",
    "\n",
    "    #print(label)\n",
    "    print(hard_images['filename'][idx])\n",
    "\n",
    "    row += 1\n",
    "    if row > 7:\n",
    "        break"
   ]
  },
  {
   "cell_type": "code",
   "execution_count": null,
   "metadata": {},
   "outputs": [],
   "source": [
    "#######################################################\n",
    "#  Confusion matrix\n",
    "#######################################################\n",
    "from sklearn.metrics import ConfusionMatrixDisplay\n",
    "from matplotlib.pyplot import figure\n",
    "\n",
    "val_generator.reset()\n",
    "\n",
    "# Get the ground truth\n",
    "filenames = val_generator.filenames.copy()\n",
    "labels = val_generator.labels.copy()\n",
    "\n",
    "# Predict classes\n",
    "probabilities = model.predict(val_generator, verbose=1, workers=2)\n",
    "predictions = np.argmax(probabilities, axis=-1)\n",
    "\n",
    "# Ground truth\n",
    "truth_label_indices = val_generator.labels.copy()\n",
    "\n",
    "# Map indices to class\n",
    "label_dict = (train_generator.class_indices)\n",
    "label_dict = dict((v,k) for k,v in label_dict.items())\n",
    "y_pred = [label_dict[k] for k in predictions]\n",
    "y_truth = [label_dict[k] for k in truth_label_indices]\n",
    "\n",
    "df_cm = pd.DataFrame({\n",
    "    'img_name': filenames,\n",
    "    'label_truth': y_truth,\n",
    "    'label_predict': y_pred\n",
    "    })\n",
    "\n",
    "fig, ax = plt.subplots(figsize=(40,40))\n",
    "cm = confusion_matrix(y_truth, y_pred)\n",
    "disp = ConfusionMatrixDisplay(confusion_matrix=cm)\n",
    "disp.plot(ax=ax)"
   ]
  },
  {
   "cell_type": "code",
   "execution_count": null,
   "metadata": {},
   "outputs": [],
   "source": [
    "#######################################################\n",
    "# Show the images of each class to debug bad training\n",
    "# images\n",
    "#######################################################\n",
    "\n",
    "NCOL = 5\n",
    "NROW = 32\n",
    "\n",
    "from PIL import Image\n",
    "fig, axs = plt.subplots(ncols=NCOL, nrows=NROW)\n",
    "fig.set_size_inches(20, 120)\n",
    "\n",
    "label = '12'\n",
    "df = train_labels[train_labels['label'] == label].sample(frac=1)\n",
    "print('Found {} images for class {}'.format(len(df), label))\n",
    "\n",
    "i = 0\n",
    "for row in range(0, NROW):\n",
    "    if i > len(df):\n",
    "        print('No more images')\n",
    "        break\n",
    "\n",
    "    for col in range(0, NCOL):\n",
    "        # Load image\n",
    "        img = Image.open(TRAIN_DIR + df.iloc[i]['img_name'])\n",
    "\n",
    "        # Plot image    \n",
    "        axs[row, col].imshow(img)\n",
    "        axs[row, col].xaxis.set_visible(False)\n",
    "        axs[row, col].yaxis.set_visible(False)\n",
    "        axs[row, col].set_title('Class: ' + df.iloc[i]['img_name'])\n",
    "\n",
    "        i += 1"
   ]
  },
  {
   "cell_type": "code",
   "execution_count": 40,
   "metadata": {},
   "outputs": [
    {
     "name": "stdout",
     "output_type": "stream",
     "text": [
      "285/285 [==============================] - 21s 74ms/step\n"
     ]
    }
   ],
   "source": [
    "#######################################################\n",
    "#  Check which classes have the most problems - part 1\n",
    "#######################################################\n",
    "\n",
    "# Predict classes\n",
    "val_generator.reset()\n",
    "probabilities = model.predict(val_generator, verbose=1)\n",
    "predicted_label_indices = np.argmax(probabilities, axis=-1)\n",
    "\n",
    "# Get the ground truth\n",
    "filenames = val_generator.filenames.copy()\n",
    "truth_label_indices = val_generator.labels.copy()\n",
    "\n",
    "label_dict = (train_generator.class_indices)\n",
    "label_dict = dict((v,k) for k,v in label_dict.items())\n",
    "y_pred = [label_dict[k] for k in predicted_label_indices]\n",
    "y_truth = [label_dict[k] for k in truth_label_indices]"
   ]
  },
  {
   "cell_type": "code",
   "execution_count": null,
   "metadata": {},
   "outputs": [],
   "source": [
    "#######################################################\n",
    "#  Check which classes have the most problems - part 2\n",
    "#######################################################\n",
    "from sklearn.metrics import accuracy_score\n",
    "from sklearn.metrics import precision_score\n",
    "from sklearn.metrics import recall_score\n",
    "from sklearn.metrics import f1_score\n",
    "\n",
    "# accuracy: (tp + tn) / (p + n)\n",
    "accuracy = accuracy_score(y_truth, y_pred)\n",
    "# precision tp / (tp + fp)\n",
    "precision = precision_score(y_truth, y_pred, average=None)\n",
    "# recall: tp / (tp + fn)\n",
    "recall = recall_score(y_truth, y_pred, average=None)\n",
    "# f1: 2 tp / (2 tp + fp + fn)\n",
    "f1 = f1_score(y_truth, y_pred, average=None)\n",
    "print('F1 score: ' % f1)\n",
    "\n",
    "pd.set_option('display.max_rows', 500)\n",
    "\n",
    "df_cm = pd.DataFrame({\n",
    "    'img_name': filenames,\n",
    "    'label_truth': y_truth,\n",
    "    'label_predict': y_pred\n",
    "    })\n",
    "    \n",
    "df_cm['correct'] = False\n",
    "df_cm.loc[df_cm['label_truth'] == df_cm['label_predict'], 'correct'] = True\n",
    "print(len(df_cm[df_cm['correct'] == True]))\n",
    "print(len(df_cm[df_cm['correct'] == False]))\n",
    "\n",
    "plt.figure(figsize=(15, 10))\n",
    "class_report_mean = df_cm.groupby('label_truth').mean()['correct']\n",
    "class_report_count = df_cm.groupby('label_truth').count()['img_name']\n",
    "#class_report.plot()\n",
    "class_report = pd.DataFrame({\n",
    "    'count': class_report_count,\n",
    "    'correct': class_report_mean\n",
    "    })\n",
    "class_report.sort_values('correct', inplace=True)\n",
    "class_report['correct'].plot()\n",
    "\n",
    "#class_report[10:]"
   ]
  },
  {
   "cell_type": "code",
   "execution_count": null,
   "metadata": {},
   "outputs": [],
   "source": [
    "#######################################################\n",
    "#  Create class weights for training, part 3\n",
    "#######################################################\n",
    "\n",
    "from sklearn.metrics import classification_report\n",
    "    \n",
    "cr = classification_report(y_truth, y_pred, output_dict=True)\n",
    "\n",
    "cr_d = pd.DataFrame.from_dict(cr).T[['precision', 'recall', 'f1-score']]\n",
    "\n",
    "cr_d['label'] = cr_d.index\n",
    "#cr_d.plot()\n",
    "df = cr_d.merge(class_report, left_on='label', right_on='label_truth')\n",
    "\n",
    "# Convert class report into class weighting\n",
    "class_weights = df[['label', 'f1-score']].copy()\n",
    "\n",
    "f1min = min(class_weights['f1-score'])\n",
    "f1max = max(class_weights['f1-score'])\n",
    "f1spread = f1max - f1min\n",
    "\n",
    "class_weights['weight'] = f1max - (class_weights['f1-score'] - f1min) #1/np.exp(class_weights['f1-score'])\n",
    "class_weights = class_weights[['label', 'weight']]\n",
    "class_weights.set_index('label', inplace=True)\n",
    "\n",
    "class_weights_dict = {}\n",
    "for label in class_weights.index:\n",
    "    #class_weights_dict[label] = class_weights.loc[label] # Readable version\n",
    "    class_weights_dict[train_generator.class_indices[label]] = class_weights.loc[label] # Trainable version\n",
    "\n",
    "#print(class_weights_dict['12'])\n",
    "#print(class_weights_dict['75'])\n",
    "class_weights_dict"
   ]
  },
  {
   "cell_type": "code",
   "execution_count": 104,
   "metadata": {},
   "outputs": [
    {
     "name": "stdout",
     "output_type": "stream",
     "text": [
      "285/285 [==============================] - 21s 74ms/step\n",
      "285/285 [==============================] - 21s 74ms/step\n"
     ]
    },
    {
     "ename": "TypeError",
     "evalue": "__init__() got multiple values for argument 'activation'",
     "output_type": "error",
     "traceback": [
      "\u001b[1;31m---------------------------------------------------------------------------\u001b[0m",
      "\u001b[1;31mTypeError\u001b[0m                                 Traceback (most recent call last)",
      "\u001b[1;32m~\\AppData\\Local\\Temp/ipykernel_3408/949569217.py\u001b[0m in \u001b[0;36m<module>\u001b[1;34m\u001b[0m\n\u001b[0;32m     14\u001b[0m \u001b[1;31m# Define the model\u001b[0m\u001b[1;33m\u001b[0m\u001b[1;33m\u001b[0m\u001b[1;33m\u001b[0m\u001b[0m\n\u001b[0;32m     15\u001b[0m \u001b[0mmodel\u001b[0m \u001b[1;33m=\u001b[0m \u001b[0mSequential\u001b[0m\u001b[1;33m(\u001b[0m\u001b[1;33m)\u001b[0m\u001b[1;33m\u001b[0m\u001b[1;33m\u001b[0m\u001b[0m\n\u001b[1;32m---> 16\u001b[1;33m \u001b[0mmodel\u001b[0m\u001b[1;33m.\u001b[0m\u001b[0madd\u001b[0m\u001b[1;33m(\u001b[0m\u001b[0mDense\u001b[0m\u001b[1;33m(\u001b[0m\u001b[1;36m32\u001b[0m\u001b[1;33m,\u001b[0m \u001b[1;36m3\u001b[0m\u001b[1;33m,\u001b[0m \u001b[0mactivation\u001b[0m\u001b[1;33m=\u001b[0m\u001b[1;34m\"relu\"\u001b[0m\u001b[1;33m,\u001b[0m \u001b[0minput_shape\u001b[0m\u001b[1;33m=\u001b[0m\u001b[1;33m(\u001b[0m\u001b[0mNUM_CLASSES\u001b[0m\u001b[1;33m*\u001b[0m\u001b[1;36m2\u001b[0m\u001b[1;33m)\u001b[0m\u001b[1;33m)\u001b[0m\u001b[1;33m)\u001b[0m\u001b[1;33m\u001b[0m\u001b[1;33m\u001b[0m\u001b[0m\n\u001b[0m\u001b[0;32m     17\u001b[0m \u001b[0mmodel\u001b[0m\u001b[1;33m.\u001b[0m\u001b[0madd\u001b[0m\u001b[1;33m(\u001b[0m\u001b[0mDense\u001b[0m\u001b[1;33m(\u001b[0m\u001b[0mNUM_CLASSES\u001b[0m\u001b[1;33m,\u001b[0m \u001b[0mactivation\u001b[0m\u001b[1;33m=\u001b[0m\u001b[1;34m\"softmax\"\u001b[0m\u001b[1;33m)\u001b[0m\u001b[1;33m)\u001b[0m\u001b[1;33m\u001b[0m\u001b[1;33m\u001b[0m\u001b[0m\n\u001b[0;32m     18\u001b[0m \u001b[0mmodel\u001b[0m\u001b[1;33m.\u001b[0m\u001b[0mcompile\u001b[0m\u001b[1;33m(\u001b[0m\u001b[0moptimizer\u001b[0m\u001b[1;33m=\u001b[0m\u001b[1;34m'Adam'\u001b[0m\u001b[1;33m,\u001b[0m \u001b[0mloss\u001b[0m\u001b[1;33m=\u001b[0m\u001b[1;34m'CategoricalCrossentropy'\u001b[0m\u001b[1;33m,\u001b[0m \u001b[0mmetrics\u001b[0m \u001b[1;33m=\u001b[0m \u001b[1;33m[\u001b[0m\u001b[1;34m'accuracy'\u001b[0m\u001b[1;33m]\u001b[0m\u001b[1;33m)\u001b[0m\u001b[1;33m\u001b[0m\u001b[1;33m\u001b[0m\u001b[0m\n",
      "\u001b[1;31mTypeError\u001b[0m: __init__() got multiple values for argument 'activation'"
     ]
    }
   ],
   "source": [
    "#####################################################\n",
    "# Train basic network on ensemble of two models\n",
    "#####################################################\n",
    "\n",
    "# Classify the validation set\n",
    "val_generator.reset()\n",
    "labels = val_generator.labels.copy()\n",
    "\n",
    "probabilities1 = model1.predict(val_generator, verbose=1)\n",
    "probabilities2 = model2.predict(val_generator, verbose=1)\n",
    "\n",
    "X = np.concatenate((probabilities1, probabilities2), axis=1)\n",
    "y = labels\n",
    "\n",
    "# One hot encode labels\n",
    "y_arr = np.array(y)\n",
    "shape = (y_arr.size, y_arr.max() + 1)\n",
    "one_hot = np.zeros(shape)\n",
    "rows = np.arange(y_arr.size)\n",
    "one_hot[rows, y_arr] = 1\n",
    "\n",
    "# Define the model\n",
    "model_ensemble = Sequential()\n",
    "model_ensemble.add(Dense(64, activation=\"relu\", input_dim=NUM_CLASSES*2))\n",
    "model_ensemble.add(Dense(NUM_CLASSES, activation=\"softmax\"))\n",
    "model_ensemble.compile(optimizer='Adam', loss='CategoricalCrossentropy', metrics = ['accuracy'])\n",
    "\n",
    "# Train the model\n",
    "history = model_ensemble.fit(X, one_hot, epochs=4)\n",
    "\n",
    "acc = history.history['accuracy']\n",
    "loss = history.history['loss']\n",
    "\n",
    "print(acc)\n"
   ]
  },
  {
   "cell_type": "code",
   "execution_count": 195,
   "metadata": {},
   "outputs": [
    {
     "data": {
      "text/html": [
       "<div>\n",
       "<style scoped>\n",
       "    .dataframe tbody tr th:only-of-type {\n",
       "        vertical-align: middle;\n",
       "    }\n",
       "\n",
       "    .dataframe tbody tr th {\n",
       "        vertical-align: top;\n",
       "    }\n",
       "\n",
       "    .dataframe thead th {\n",
       "        text-align: right;\n",
       "    }\n",
       "</style>\n",
       "<table border=\"1\" class=\"dataframe\">\n",
       "  <thead>\n",
       "    <tr style=\"text-align: right;\">\n",
       "      <th></th>\n",
       "      <th>img_name</th>\n",
       "      <th>label</th>\n",
       "    </tr>\n",
       "  </thead>\n",
       "  <tbody>\n",
       "    <tr>\n",
       "      <th>0</th>\n",
       "      <td>test_1.jpg</td>\n",
       "      <td>15</td>\n",
       "    </tr>\n",
       "    <tr>\n",
       "      <th>1</th>\n",
       "      <td>test_10.jpg</td>\n",
       "      <td>45</td>\n",
       "    </tr>\n",
       "    <tr>\n",
       "      <th>2</th>\n",
       "      <td>test_100.jpg</td>\n",
       "      <td>34</td>\n",
       "    </tr>\n",
       "    <tr>\n",
       "      <th>3</th>\n",
       "      <td>test_1000.jpg</td>\n",
       "      <td>29</td>\n",
       "    </tr>\n",
       "    <tr>\n",
       "      <th>4</th>\n",
       "      <td>test_1001.jpg</td>\n",
       "      <td>32</td>\n",
       "    </tr>\n",
       "    <tr>\n",
       "      <th>...</th>\n",
       "      <td>...</td>\n",
       "      <td>...</td>\n",
       "    </tr>\n",
       "    <tr>\n",
       "      <th>7648</th>\n",
       "      <td>test_995.jpg</td>\n",
       "      <td>39</td>\n",
       "    </tr>\n",
       "    <tr>\n",
       "      <th>7649</th>\n",
       "      <td>test_996.jpg</td>\n",
       "      <td>74</td>\n",
       "    </tr>\n",
       "    <tr>\n",
       "      <th>7650</th>\n",
       "      <td>test_997.jpg</td>\n",
       "      <td>69</td>\n",
       "    </tr>\n",
       "    <tr>\n",
       "      <th>7651</th>\n",
       "      <td>test_998.jpg</td>\n",
       "      <td>60</td>\n",
       "    </tr>\n",
       "    <tr>\n",
       "      <th>7652</th>\n",
       "      <td>test_999.jpg</td>\n",
       "      <td>14</td>\n",
       "    </tr>\n",
       "  </tbody>\n",
       "</table>\n",
       "<p>7653 rows × 2 columns</p>\n",
       "</div>"
      ],
      "text/plain": [
       "           img_name label\n",
       "0        test_1.jpg    15\n",
       "1       test_10.jpg    45\n",
       "2      test_100.jpg    34\n",
       "3     test_1000.jpg    29\n",
       "4     test_1001.jpg    32\n",
       "...             ...   ...\n",
       "7648   test_995.jpg    39\n",
       "7649   test_996.jpg    74\n",
       "7650   test_997.jpg    69\n",
       "7651   test_998.jpg    60\n",
       "7652   test_999.jpg    14\n",
       "\n",
       "[7653 rows x 2 columns]"
      ]
     },
     "execution_count": 195,
     "metadata": {},
     "output_type": "execute_result"
    }
   ],
   "source": [
    "# Predict ensemble\n",
    "X = np.concatenate((probabilities1, probabilities2), axis=1)\n",
    "y_pred = model_ensemble.predict(X)\n",
    "\n",
    "predicted_class_indices = np.argmax(y_pred, axis=-1)\n",
    "\n",
    "labels = (val_generator.class_indices)\n",
    "labels = dict((v,k) for k,v in labels.items())\n",
    "predictions = [labels[k] for k in predicted_class_indices]\n",
    "\n",
    "# Create the pandas DataFrame\n",
    "results=pd.DataFrame({\"img_name\":filenames,\n",
    "                      \"label\":predictions})\n",
    "\n",
    "results.to_csv(DATA_DIR + '/predictions.csv', index=False)\n",
    "results"
   ]
  },
  {
   "cell_type": "code",
   "execution_count": 194,
   "metadata": {},
   "outputs": [
    {
     "data": {
      "text/plain": [
       "<AxesSubplot:>"
      ]
     },
     "execution_count": 194,
     "metadata": {},
     "output_type": "execute_result"
    },
    {
     "data": {
      "image/png": "[encoded data removed]",
      "text/plain": [
       "<Figure size 432x288 with 1 Axes>"
      ]
     },
     "metadata": {
      "needs_background": "light"
     },
     "output_type": "display_data"
    },
    {
     "data": {
      "image/png": "[encoded data removed]",
      "text/plain": [
       "<Figure size 432x288 with 1 Axes>"
      ]
     },
     "metadata": {
      "needs_background": "light"
     },
     "output_type": "display_data"
    },
    {
     "data": {
      "image/png": "[encoded data removed]",
      "text/plain": [
       "<Figure size 432x288 with 1 Axes>"
      ]
     },
     "metadata": {
      "needs_background": "light"
     },
     "output_type": "display_data"
    }
   ],
   "source": [
    "i = 6\n",
    "p=pd.DataFrame({\"p\": probabilities1[i]})\n",
    "p.plot()\n",
    "p=pd.DataFrame({\"p\": probabilities2[i]})\n",
    "p.plot()\n",
    "p=pd.DataFrame({\"p\": y_pred[i]})\n",
    "p.plot()"
   ]
  }
 ],
 "metadata": {
  "interpreter": {
   "hash": "312b15c8e281011c15b3624d7e696b55e97b571d1c0e0ccfe711241545262bc8"
  },
  "kernelspec": {
   "display_name": "Python 3.9.7 64-bit ('ds': conda)",
   "language": "python",
   "name": "python3"
  },
  "language_info": {
   "codemirror_mode": {
    "name": "ipython",
    "version": 3
   },
   "file_extension": ".py",
   "mimetype": "text/x-python",
   "name": "python",
   "nbconvert_exporter": "python",
   "pygments_lexer": "ipython3",
   "version": "3.8.0"
  },
  "orig_nbformat": 4
 },
 "nbformat": 4,
 "nbformat_minor": 2
}
